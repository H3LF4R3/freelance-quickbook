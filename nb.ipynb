{
 "cells": [
  {
   "cell_type": "code",
   "execution_count": 78,
   "metadata": {},
   "outputs": [],
   "source": [
    "from browser import Browser\n",
    "import file_manager\n",
    "import random\n"
   ]
  },
  {
   "cell_type": "code",
   "execution_count": 79,
   "metadata": {},
   "outputs": [
    {
     "name": "stdout",
     "output_type": "stream",
     "text": [
      "\n"
     ]
    }
   ],
   "source": [
    "b = Browser()\n",
    "b.startBrowser(user_data=r\"D:\\Script- Baackup\\quickbook\\Chrome\\User Data\")\n"
   ]
  },
  {
   "cell_type": "code",
   "execution_count": 80,
   "metadata": {},
   "outputs": [],
   "source": [
    "b.wd.get('https://quickbooks.intuit.com/choose-country/#europe')\n"
   ]
  },
  {
   "cell_type": "code",
   "execution_count": 81,
   "metadata": {},
   "outputs": [
    {
     "data": {
      "text/plain": [
       "True"
      ]
     },
     "execution_count": 81,
     "metadata": {},
     "output_type": "execute_result"
    }
   ],
   "source": [
    "b.clickButtonByXpath('//*[@data-ui-object-detail=\"Finland\"]')\n"
   ]
  },
  {
   "cell_type": "code",
   "execution_count": 83,
   "metadata": {},
   "outputs": [],
   "source": [
    "b.wd.find_elements_by_xpath(\n",
    "    '//*[@data-ui-object-detail=\"Free 30-day trial\"]')[0].click()\n"
   ]
  },
  {
   "cell_type": "code",
   "execution_count": 84,
   "metadata": {},
   "outputs": [],
   "source": [
    "b.wd.find_elements_by_xpath(\n",
    "    '//*[@data-ui-object-detail=\"Free 30-day trial\"]')[1].click()\n"
   ]
  },
  {
   "cell_type": "code",
   "execution_count": 85,
   "metadata": {},
   "outputs": [],
   "source": [
    "b.wd.find_element_by_xpath(\n",
    "    '//*[@type=\"email\"]').send_keys(file_manager.get_email())\n"
   ]
  },
  {
   "cell_type": "code",
   "execution_count": 86,
   "metadata": {},
   "outputs": [],
   "source": [
    "f_name, l_name = file_manager.get_f_name(), file_manager.get_l_name()\n",
    "b.wd.find_element_by_id('ius-first-name').send_keys(f_name)\n",
    "b.wd.find_element_by_id('ius-last-name').send_keys(l_name)\n"
   ]
  },
  {
   "cell_type": "code",
   "execution_count": 87,
   "metadata": {},
   "outputs": [],
   "source": [
    "b.wd.find_element_by_id(\n",
    "    'ius-mobile-phone').send_keys(f'042{random.randint(1111111,9999999)}')\n"
   ]
  },
  {
   "cell_type": "code",
   "execution_count": 88,
   "metadata": {},
   "outputs": [
    {
     "data": {
      "text/plain": [
       "True"
      ]
     },
     "execution_count": 88,
     "metadata": {},
     "output_type": "execute_result"
    }
   ],
   "source": [
    "b.clickButtonByID('ius-sign-up-submit-btn')\n"
   ]
  },
  {
   "cell_type": "code",
   "execution_count": 89,
   "metadata": {},
   "outputs": [
    {
     "data": {
      "text/plain": [
       "True"
      ]
     },
     "execution_count": 89,
     "metadata": {},
     "output_type": "execute_result"
    }
   ],
   "source": [
    "passw = f'{chr(random.randint(65,90))}{f_name}{l_name}{random.randint(100,900)}&@'\n",
    "b.wd.find_element_by_id('ius-password').send_keys(passw)\n",
    "b.clickButtonByID('ius-sign-up-submit-btn')\n"
   ]
  },
  {
   "cell_type": "code",
   "execution_count": 90,
   "metadata": {},
   "outputs": [
    {
     "data": {
      "text/plain": [
       "True"
      ]
     },
     "execution_count": 90,
     "metadata": {},
     "output_type": "execute_result"
    }
   ],
   "source": [
    "b.clickButtonByID('ius-sign-up-submit-btn')\n",
    "b.wd.find_element_by_id('ius-confirm-password').send_keys(passw)\n",
    "b.clickButtonByID('ius-sign-up-submit-btn')\n"
   ]
  },
  {
   "cell_type": "code",
   "execution_count": null,
   "metadata": {},
   "outputs": [],
   "source": [
    "b.wd.get('https://app.qbo.intuit.com/app/accountsettings')\n"
   ]
  },
  {
   "cell_type": "code",
   "execution_count": null,
   "metadata": {},
   "outputs": [],
   "source": [
    "b.wd.find_element_by_xpath(\n",
    "    '//*[@aria-label=\"Edit Company name\"]').click()\n"
   ]
  },
  {
   "cell_type": "code",
   "execution_count": null,
   "metadata": {},
   "outputs": [],
   "source": [
    "b.wd.find_element_by_xpath(\n",
    "    '//*[@aria-label=\"Company name\"]').send_keys(file_manager.get_company_name())\n"
   ]
  },
  {
   "cell_type": "code",
   "execution_count": 26,
   "metadata": {},
   "outputs": [],
   "source": [
    "list(filter(lambda x: x.is_displayed(),\n",
    "     b.wd.find_elements_by_class_name('saveSection')))[0].click()\n"
   ]
  },
  {
   "cell_type": "code",
   "execution_count": null,
   "metadata": {},
   "outputs": [],
   "source": [
    "b.wd.find_element_by_xpath(\n",
    "    '//*[@aria-label=\"Edit Contact info\"]').click()\n"
   ]
  },
  {
   "cell_type": "code",
   "execution_count": null,
   "metadata": {},
   "outputs": [],
   "source": [
    "b.wd.find_element_by_xpath(\n",
    "    '//*[@aria-label=\"Company name\"]').send_keys(file_manager.get_company_name())\n"
   ]
  },
  {
   "cell_type": "code",
   "execution_count": 23,
   "metadata": {},
   "outputs": [],
   "source": [
    "b.wd.find_element_by_xpath(\n",
    "    '//*[@placeholder=\"Email address\"]').clear()\n",
    "b.wd.find_element_by_xpath(\n",
    "    '//*[@placeholder=\"Email address\"]').send_keys(file_manager.get_company_email())\n"
   ]
  },
  {
   "cell_type": "code",
   "execution_count": 24,
   "metadata": {},
   "outputs": [],
   "source": [
    "from selenium.webdriver.common.keys import Keys\n",
    "\n"
   ]
  },
  {
   "cell_type": "code",
   "execution_count": 25,
   "metadata": {},
   "outputs": [],
   "source": [
    "phone = b.wd.find_element_by_id('phone-form-control')\n",
    "phone.clear()\n",
    "phone.click()\n",
    "phone.clear()\n",
    "phone.send_keys(Keys.BACK_SPACE)\n",
    "phone.send_keys(Keys.BACK_SPACE)\n",
    "phone.send_keys(Keys.BACK_SPACE)\n",
    "phone.send_keys(18888888888)\n",
    "\n",
    "# b.wd.find_element_by_id('phone-form-control').clear()\n"
   ]
  },
  {
   "cell_type": "code",
   "execution_count": 27,
   "metadata": {},
   "outputs": [],
   "source": [
    "b.wd.find_elements_by_class_name('settingsNavItem')[2].click()\n"
   ]
  },
  {
   "cell_type": "code",
   "execution_count": 28,
   "metadata": {},
   "outputs": [],
   "source": [
    "b.wd.find_element_by_xpath('//*[@data-section=\"salesCommunications\"]').click()\n"
   ]
  },
  {
   "cell_type": "code",
   "execution_count": 29,
   "metadata": {},
   "outputs": [],
   "source": [
    "import file_manager\n",
    "\n",
    "b.wd.find_element_by_xpath('//*[@name=\"emailTxnText\"]').clear()\n",
    "\n",
    "b.wd.find_element_by_xpath(\n",
    "    '//*[@name=\"emailTxnText\"]').send_keys(file_manager.get_email_message())\n",
    "\n",
    "list(filter(lambda x: x.is_displayed(),\n",
    "     b.wd.find_elements_by_class_name('saveSection')))[0].click()\n"
   ]
  },
  {
   "cell_type": "code",
   "execution_count": 30,
   "metadata": {},
   "outputs": [],
   "source": [
    "b.wd.find_elements_by_class_name('settingsNavItem')[-1].click()\n"
   ]
  },
  {
   "cell_type": "code",
   "execution_count": 31,
   "metadata": {},
   "outputs": [],
   "source": [
    "b.wd.find_element_by_xpath('//*[@data-section=\"currency\"]').click()\n"
   ]
  },
  {
   "cell_type": "code",
   "execution_count": 32,
   "metadata": {},
   "outputs": [],
   "source": [
    "b.wd.find_element_by_xpath('//*[@aria-label=\"Home Currency\"]').send_keys('USD')\n",
    "\n",
    "list(filter(lambda x: x.is_displayed(),\n",
    "     b.wd.find_elements_by_class_name('saveSection')))[0].click()\n"
   ]
  },
  {
   "cell_type": "code",
   "execution_count": 35,
   "metadata": {},
   "outputs": [],
   "source": [
    "b.wd.find_element_by_css_selector('.bottomRightButtons button').click()\n"
   ]
  },
  {
   "cell_type": "code",
   "execution_count": 36,
   "metadata": {},
   "outputs": [],
   "source": [
    "b.wd.get('https://app.qbo.intuit.com/app/sales')\n"
   ]
  },
  {
   "cell_type": "code",
   "execution_count": 38,
   "metadata": {},
   "outputs": [],
   "source": [
    "b.wd.find_element_by_xpath(\n",
    "    '//*[contains(text(),\"Create invoice\")]').find_element_by_xpath('..').click()\n"
   ]
  },
  {
   "cell_type": "code",
   "execution_count": 40,
   "metadata": {},
   "outputs": [
    {
     "data": {
      "text/plain": [
       "True"
      ]
     },
     "execution_count": 40,
     "metadata": {},
     "output_type": "execute_result"
    }
   ],
   "source": [
    "b.clickButtonByXpath('//*[@aria-label=\"Close Tooltip\"]', time=1)\n"
   ]
  },
  {
   "cell_type": "code",
   "execution_count": 41,
   "metadata": {},
   "outputs": [],
   "source": [
    "b.wd.find_element_by_xpath(\n",
    "    '//*[@data-automation-id=\"input-ref-number-sales\"]').clear()\n",
    "b.wd.find_element_by_xpath(\n",
    "    '//*[@data-automation-id=\"input-ref-number-sales\"]').send_keys(random.randint(999*9, 9*9*99999999))\n"
   ]
  },
  {
   "cell_type": "code",
   "execution_count": 42,
   "metadata": {},
   "outputs": [],
   "source": [
    "import time\n"
   ]
  },
  {
   "cell_type": "code",
   "execution_count": 44,
   "metadata": {},
   "outputs": [],
   "source": [
    "b.wd.find_element_by_xpath(\n",
    "    '//*[@aria-label=\"Select a customer\"]').send_keys(file_manager.get_f_name())\n",
    "time.sleep(2)\n",
    "b.wd.find_element_by_xpath(\n",
    "    '//*[@aria-label=\"Select a customer\"]').send_keys(Keys.ENTER)\n",
    "list(filter(lambda x: x.is_displayed(),\n",
    "     b.wd.find_elements_by_xpath('//button[contains(text(),\"Save\")]')))[-1].click()\n"
   ]
  },
  {
   "cell_type": "code",
   "execution_count": 45,
   "metadata": {},
   "outputs": [],
   "source": [
    "b.wd.find_element_by_xpath('//*[@aria-label=\"Customer email\"]').clear()\n",
    "b.wd.find_element_by_xpath(\n",
    "    '//*[@aria-label=\"Customer email\"]').send_keys(file_manager.get_company_email())\n"
   ]
  },
  {
   "cell_type": "code",
   "execution_count": null,
   "metadata": {},
   "outputs": [],
   "source": []
  },
  {
   "cell_type": "code",
   "execution_count": 46,
   "metadata": {},
   "outputs": [],
   "source": [
    "b.clickButtonByClassName('field-amount')\n",
    "\n",
    "b.wd.find_element_by_xpath('//*[@aria-label=\"Amount\"]').clear()\n",
    "b.wd.find_element_by_xpath('//*[@aria-label=\"Amount\"]').send_keys(1122)\n"
   ]
  },
  {
   "cell_type": "code",
   "execution_count": 47,
   "metadata": {},
   "outputs": [
    {
     "data": {
      "text/plain": [
       "True"
      ]
     },
     "execution_count": 47,
     "metadata": {},
     "output_type": "execute_result"
    }
   ],
   "source": [
    "b.clickButtonByClassName('field-itemId')\n"
   ]
  },
  {
   "cell_type": "code",
   "execution_count": 48,
   "metadata": {},
   "outputs": [],
   "source": [
    "b.wd.find_element_by_xpath('//*[@aria-label=\"ProductService\"]').clear()\n",
    "b.wd.find_element_by_xpath(\n",
    "    '//*[@aria-label=\"ProductService\"]').send_keys('Services')\n",
    "b.wd.find_element_by_xpath(\n",
    "    '//*[@aria-label=\"ProductService\"]').send_keys(Keys.ENTER)\n"
   ]
  },
  {
   "cell_type": "code",
   "execution_count": 49,
   "metadata": {},
   "outputs": [],
   "source": [
    "b.wd.find_elements_by_xpath(\n",
    "    '//*[@data-automation-id=\"button-save-combo-universal\"]')[-1].click()\n",
    "\n",
    "time.sleep(1)\n",
    "\n",
    "b.wd.find_elements_by_xpath(\n",
    "    '//*[@data-automation-id=\"button-save-combo-universal\"]')[-1].click()\n"
   ]
  },
  {
   "cell_type": "code",
   "execution_count": 50,
   "metadata": {},
   "outputs": [],
   "source": [
    "b.wd.find_elements_by_xpath(\n",
    "    '//*[@data-automation-id=\"button-save-combo-universal\"]')[-1].click()\n"
   ]
  },
  {
   "cell_type": "code",
   "execution_count": 67,
   "metadata": {},
   "outputs": [],
   "source": [
    "b.wd.find_element_by_css_selector('.idsTSCheckbox input').click()\n"
   ]
  },
  {
   "cell_type": "code",
   "execution_count": 72,
   "metadata": {},
   "outputs": [],
   "source": [
    "b.wd.find_element_by_class_name('idsTSButton').click()\n"
   ]
  },
  {
   "cell_type": "code",
   "execution_count": 73,
   "metadata": {},
   "outputs": [],
   "source": [
    "b.wd.find_element_by_xpath('//*[@data-automation-id=\"batch-menu.SEND\"]').click()\n"
   ]
  },
  {
   "cell_type": "code",
   "execution_count": 76,
   "metadata": {},
   "outputs": [],
   "source": [
    "b.wd.find_element_by_css_selector('input#email_to').clear()\n",
    "b.wd.find_element_by_css_selector('input#email_to').clear()\n",
    "b.wd.find_element_by_css_selector('input#email_to').send_keys(file_manager.get_email())\n"
   ]
  },
  {
   "cell_type": "code",
   "execution_count": 77,
   "metadata": {},
   "outputs": [],
   "source": [
    "b.wd.find_element_by_xpath('//*[@data-automation-id=\"send-button\"]').click()\n"
   ]
  },
  {
   "cell_type": "code",
   "execution_count": null,
   "metadata": {},
   "outputs": [],
   "source": [
    "import requests\n",
    "import browser\n",
    "import time\n"
   ]
  },
  {
   "cell_type": "code",
   "execution_count": null,
   "metadata": {},
   "outputs": [],
   "source": [
    "b = browser.Browser()\n",
    "b.startBrowser(\n",
    "    url='https://www.wayfair.com/furniture/sb0/sectionals-c413893.html?curpage=4')\n",
    "# b.wd.get('https://www.wayfair.com/furniture/sb0/sectionals-c413893.html?curpage=4')\n"
   ]
  },
  {
   "cell_type": "code",
   "execution_count": null,
   "metadata": {},
   "outputs": [],
   "source": [
    "b.wd.get('https://www.wayfair.com/furniture/sb0/sectionals-c413893.html?curpage=7')\n"
   ]
  },
  {
   "cell_type": "code",
   "execution_count": null,
   "metadata": {},
   "outputs": [],
   "source": [
    "b = browser.Browser()\n",
    "b.addAuthenticateProxy('107.173.72.118', '5497', 'acc1220311dedi', '123456')\n",
    "b.startBrowser(\n",
    "    url='https://www.wayfair.com/furniture/sb0/sectionals-c413893.html?curpage=7')\n"
   ]
  },
  {
   "cell_type": "code",
   "execution_count": null,
   "metadata": {},
   "outputs": [],
   "source": [
    "b2 = browser.Browser()\n",
    "b2.addAuthenticateProxy('107.175.43.85', '8292', 'acc1220311dedi', '123456')\n",
    "b2.startBrowser(\n",
    "    url='https://www.wayfair.com/furniture/sb0/sectionals-c413893.html?curpage=7')\n"
   ]
  },
  {
   "cell_type": "code",
   "execution_count": null,
   "metadata": {},
   "outputs": [],
   "source": [
    "for i in range(30, 60, 2):\n",
    "    print(i)\n",
    "    b.wd.get(\n",
    "        'https://www.wayfair.com/furniture/sb0/sectionals-c413893.html?curpage='+str(i))\n",
    "    # b2.wd.get(\n",
    "    #     'https://www.wayfair.com/furniture/sb0/sectionals-c413893.html?curpage='+str(i))\n",
    "    time.sleep(1)\n"
   ]
  },
  {
   "cell_type": "code",
   "execution_count": null,
   "metadata": {},
   "outputs": [],
   "source": [
    "len(b.wd.find_elements_by_xpath(\n",
    "    '//a[@data-enzyme-id=\"BrowseProductCardWrapper-component\"]'))\n"
   ]
  }
 ],
 "metadata": {
  "kernelspec": {
   "display_name": "Python 3.9.7 64-bit",
   "language": "python",
   "name": "python3"
  },
  "language_info": {
   "codemirror_mode": {
    "name": "ipython",
    "version": 3
   },
   "file_extension": ".py",
   "mimetype": "text/x-python",
   "name": "python",
   "nbconvert_exporter": "python",
   "pygments_lexer": "ipython3",
   "version": "3.9.7"
  },
  "orig_nbformat": 4,
  "vscode": {
   "interpreter": {
    "hash": "11938c6bc6919ae2720b4d5011047913343b08a43b18698fd82dedb0d4417594"
   }
  }
 },
 "nbformat": 4,
 "nbformat_minor": 2
}
